{
 "cells": [
  {
   "cell_type": "markdown",
   "metadata": {},
   "source": [
    "# Python Implementation of Dijkstra\n",
    "### Mazal Alamo - HW 3\n",
    "#### credit: https://stackabuse.com/courses/graphs-in-python-theory-and-implementation/lessons/dijkstras-algorithm/"
   ]
  },
  {
   "cell_type": "code",
   "execution_count": 1,
   "metadata": {},
   "outputs": [],
   "source": [
    "from queue import PriorityQueue\n",
    "class Graph:\n",
    "    def __init__(self, num_of_vertices):\n",
    "        self.v = num_of_vertices\n",
    "        self.edges = [[-1 for i in range(num_of_vertices)] for j in range(num_of_vertices)]\n",
    "        self.visited = []\n",
    "        \n",
    "    def add_edge(self, u, v, weight):\n",
    "            self.edges[u][v] = weight\n",
    "            self.edges[v][u] = weight\n",
    "            \n",
    "def dijkstra(graph, start_vertex):\n",
    "    D = {v:float('inf') for v in range(graph.v)}\n",
    "    D[start_vertex] = 0\n",
    "\n",
    "    pq = PriorityQueue()\n",
    "    pq.put((0, start_vertex))\n",
    "\n",
    "    while not pq.empty():\n",
    "        (dist, current_vertex) = pq.get()\n",
    "        graph.visited.append(current_vertex)\n",
    "\n",
    "        for neighbor in range(graph.v):\n",
    "            if graph.edges[current_vertex][neighbor] != -1:\n",
    "                distance = graph.edges[current_vertex][neighbor]\n",
    "                if neighbor not in graph.visited:\n",
    "                    old_cost = D[neighbor]\n",
    "                    new_cost = D[current_vertex] + distance\n",
    "                    if new_cost < old_cost:\n",
    "                        pq.put((new_cost, neighbor))\n",
    "                        D[neighbor] = new_cost\n",
    "    return D\n"
   ]
  },
  {
   "cell_type": "code",
   "execution_count": 2,
   "metadata": {},
   "outputs": [
    {
     "data": {
      "text/html": [
       "<img src=\"Dij1.jpg\" width=\"400\" height=\"400\"/>"
      ],
      "text/plain": [
       "<IPython.core.display.Image object>"
      ]
     },
     "execution_count": 2,
     "metadata": {},
     "output_type": "execute_result"
    }
   ],
   "source": [
    "# import image module\n",
    "from IPython.display import Image\n",
    "  \n",
    "# get the image\n",
    "Image(url = \"Dij1.jpg\", width=400, height=400)"
   ]
  },
  {
   "cell_type": "code",
   "execution_count": 3,
   "metadata": {},
   "outputs": [
    {
     "name": "stdout",
     "output_type": "stream",
     "text": [
      "{0: 0, 1: 9, 2: 14, 3: 15, 4: 32, 5: 34, 6: 38, 7: 44}\n",
      "Distance from vertex 0 to vertex 0 is 0\n",
      "Distance from vertex 0 to vertex 1 is 9\n",
      "Distance from vertex 0 to vertex 2 is 14\n",
      "Distance from vertex 0 to vertex 3 is 15\n",
      "Distance from vertex 0 to vertex 4 is 32\n",
      "Distance from vertex 0 to vertex 5 is 34\n",
      "Distance from vertex 0 to vertex 6 is 38\n",
      "Distance from vertex 0 to vertex 7 is 44\n"
     ]
    }
   ],
   "source": [
    "g = Graph(8)\n",
    "g.add_edge(0, 1, 9)\n",
    "g.add_edge(0, 2, 14)\n",
    "g.add_edge(0, 3, 15)\n",
    "g.add_edge(1, 4, 24)\n",
    "g.add_edge(2, 4, 18)\n",
    "g.add_edge(2, 5, 30)\n",
    "g.add_edge(2, 3, 5)\n",
    "g.add_edge(3, 5, 20)\n",
    "g.add_edge(3, 7, 44)\n",
    "g.add_edge(4, 5, 2)\n",
    "g.add_edge(4, 7, 19)\n",
    "g.add_edge(5, 6, 11)\n",
    "g.add_edge(5, 7, 16)\n",
    "g.add_edge(6, 4, 6)\n",
    "g.add_edge(6, 7, 6)\n",
    "\n",
    "D = dijkstra(g, 0)\n",
    "\n",
    "print(D)\n",
    "\n",
    "for vertex in range(len(D)):\n",
    "    print(\"Distance from vertex 0 to vertex\", vertex, \"is\", D[vertex])"
   ]
  },
  {
   "cell_type": "code",
   "execution_count": 4,
   "metadata": {},
   "outputs": [
    {
     "data": {
      "text/html": [
       "<img src=\"Dij2.jpg\" width=\"400\" height=\"400\"/>"
      ],
      "text/plain": [
       "<IPython.core.display.Image object>"
      ]
     },
     "execution_count": 4,
     "metadata": {},
     "output_type": "execute_result"
    }
   ],
   "source": [
    "Image(url = \"Dij2.jpg\", width=400, height=400)"
   ]
  },
  {
   "cell_type": "code",
   "execution_count": 5,
   "metadata": {
    "scrolled": true
   },
   "outputs": [
    {
     "name": "stdout",
     "output_type": "stream",
     "text": [
      "{0: 0, 1: 3, 2: 6, 3: 9, 4: 8, 5: 12, 6: 7, 7: 4, 8: 9, 9: 10}\n",
      "Distance from vertex 0 to vertex 0 is 0\n",
      "Distance from vertex 0 to vertex 1 is 3\n",
      "Distance from vertex 0 to vertex 2 is 6\n",
      "Distance from vertex 0 to vertex 3 is 9\n",
      "Distance from vertex 0 to vertex 4 is 8\n",
      "Distance from vertex 0 to vertex 5 is 12\n",
      "Distance from vertex 0 to vertex 6 is 7\n",
      "Distance from vertex 0 to vertex 7 is 4\n",
      "Distance from vertex 0 to vertex 8 is 9\n",
      "Distance from vertex 0 to vertex 9 is 10\n"
     ]
    }
   ],
   "source": [
    "g = Graph(10)\n",
    "g.add_edge(0, 1, 3)\n",
    "g.add_edge(0, 2, 6)\n",
    "g.add_edge(1, 7, 1)\n",
    "g.add_edge(1, 8, 7)\n",
    "g.add_edge(2, 3, 3)\n",
    "g.add_edge(2, 4, 2)\n",
    "g.add_edge(3, 4, 1)\n",
    "g.add_edge(3, 5, 5)\n",
    "g.add_edge(4, 5, 8)\n",
    "g.add_edge(5, 9, 5)\n",
    "g.add_edge(6, 5, 5)\n",
    "g.add_edge(6, 9, 3)\n",
    "g.add_edge(7, 6, 3)\n",
    "g.add_edge(8, 6, 2)\n",
    "D = dijkstra(g, 0)\n",
    "\n",
    "print(D)\n",
    "\n",
    "for vertex in range(len(D)):\n",
    "    print(\"Distance from vertex 0 to vertex\", vertex, \"is\", D[vertex])"
   ]
  },
  {
   "cell_type": "code",
   "execution_count": 6,
   "metadata": {},
   "outputs": [
    {
     "data": {
      "text/html": [
       "<img src=\"Dij3.jpg\" width=\"400\" height=\"400\"/>"
      ],
      "text/plain": [
       "<IPython.core.display.Image object>"
      ]
     },
     "execution_count": 6,
     "metadata": {},
     "output_type": "execute_result"
    }
   ],
   "source": [
    "Image(url = \"Dij3.jpg\", width=400, height=400)"
   ]
  },
  {
   "cell_type": "code",
   "execution_count": 7,
   "metadata": {},
   "outputs": [
    {
     "name": "stdout",
     "output_type": "stream",
     "text": [
      "{0: 0, 1: 2, 2: 1.5, 3: 5, 4: 3.5, 5: 6.5, 6: 7}\n",
      "Distance from vertex 0 to vertex 0 is 0\n",
      "Distance from vertex 0 to vertex 1 is 2\n",
      "Distance from vertex 0 to vertex 2 is 1.5\n",
      "Distance from vertex 0 to vertex 3 is 5\n",
      "Distance from vertex 0 to vertex 4 is 3.5\n",
      "Distance from vertex 0 to vertex 5 is 6.5\n",
      "Distance from vertex 0 to vertex 6 is 7\n"
     ]
    }
   ],
   "source": [
    "g = Graph(7)\n",
    "g.add_edge(0, 1, 2)\n",
    "g.add_edge(0, 2, 1.5)\n",
    "g.add_edge(1, 3, 3)\n",
    "g.add_edge(2, 4, 2)\n",
    "g.add_edge(3, 6, 2)\n",
    "g.add_edge(4, 5, 3)\n",
    "g.add_edge(5, 6, 4)\n",
    "D = dijkstra(g, 0)\n",
    "\n",
    "print(D)\n",
    "\n",
    "for vertex in range(len(D)):\n",
    "    print(\"Distance from vertex 0 to vertex\", vertex, \"is\", D[vertex])"
   ]
  }
 ],
 "metadata": {
  "kernelspec": {
   "display_name": "Python 3",
   "language": "python",
   "name": "python3"
  },
  "language_info": {
   "codemirror_mode": {
    "name": "ipython",
    "version": 3
   },
   "file_extension": ".py",
   "mimetype": "text/x-python",
   "name": "python",
   "nbconvert_exporter": "python",
   "pygments_lexer": "ipython3",
   "version": "3.8.5"
  }
 },
 "nbformat": 4,
 "nbformat_minor": 4
}
